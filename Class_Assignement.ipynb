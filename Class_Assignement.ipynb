{
 "cells": [
  {
   "cell_type": "code",
   "execution_count": 4,
   "id": "4b219dd7",
   "metadata": {},
   "outputs": [],
   "source": [
    " # Create a class and function, and list out the items in the list \n",
    "class SubfieldsInAI:\n",
    "    def SubFields():\n",
    "        subFieldList=[\"Machine Learning\",\"Neural Networks\",\"Vision\",\"Robotics\",\"Speech Processing\",\"Natural Language Processing\"]\n",
    "        print(\"Sub-fields in AI are:\")\n",
    "        for x in subFieldList:        \n",
    "            print(x)"
   ]
  },
  {
   "cell_type": "code",
   "execution_count": 6,
   "id": "55cda96c",
   "metadata": {},
   "outputs": [
    {
     "name": "stdout",
     "output_type": "stream",
     "text": [
      "Sub-fields in AI are:\n",
      "Machine Learning\n",
      "Neural Networks\n",
      "Vision\n",
      "Robotics\n",
      "Speech Processing\n",
      "Natural Language Processing\n"
     ]
    }
   ],
   "source": [
    "SubfieldsInAI.SubFields() "
   ]
  },
  {
   "cell_type": "code",
   "execution_count": 8,
   "id": "bc9bdf9f",
   "metadata": {},
   "outputs": [],
   "source": [
    "# Create a function that checks whether the given number is Odd or Even\n",
    "class OddEven():\n",
    "    def OddEven():\n",
    "        i=int(input(\"Enter a number:\"))\n",
    "        if(i%2==1):\n",
    "            print(i,\"is Odd Number\")\n",
    "        else:\n",
    "            print(i,\"is Even Number\")"
   ]
  },
  {
   "cell_type": "code",
   "execution_count": 9,
   "id": "2474b892",
   "metadata": {},
   "outputs": [
    {
     "name": "stdout",
     "output_type": "stream",
     "text": [
      "Enter a number:52452\n",
      "52452 is Even Number\n"
     ]
    }
   ],
   "source": [
    "OddEven.OddEven()"
   ]
  },
  {
   "cell_type": "code",
   "execution_count": 14,
   "id": "f16ce6f8",
   "metadata": {},
   "outputs": [],
   "source": [
    "# Create a function that tells elegibility of marriage for male and female according to thei r age limit like 21 for male and 18 for female\n",
    "class ElegiblityForMarriage():\n",
    "    def Eligible():\n",
    "        gender=input(\"Your Gender:\")\n",
    "        age=int(input(\"Your Age:\"))\n",
    "        if(gender==\"MALE\" and age <21):\n",
    "            print(\"NOT ELIGIBLE\")\n",
    "        elif(gender==\"MALE\" and age >= 21):  \n",
    "            print(\"ELIGIBLE\")\n",
    "        elif(gender==\"FEMALE\" and age <18): \n",
    "            print(\"NOT ELIGIBLE\")\n",
    "        elif(gender==\"FEMALE\" and age >=18):\n",
    "            print(\"ELIGIBLE\")"
   ]
  },
  {
   "cell_type": "code",
   "execution_count": 15,
   "id": "f7040ce5",
   "metadata": {},
   "outputs": [
    {
     "name": "stdout",
     "output_type": "stream",
     "text": [
      "Your Gender:MALE\n",
      "Your Age:20\n",
      "NOT ELIGIBLE\n"
     ]
    }
   ],
   "source": [
    "ElegiblityForMarriage.Eligible()"
   ]
  },
  {
   "cell_type": "code",
   "execution_count": 17,
   "id": "becb0d50",
   "metadata": {},
   "outputs": [],
   "source": [
    "# calculate the percentage of your 10th mark \n",
    "class FindPercent():\n",
    "    def percentage():\n",
    "        subject1=int(input(\"Subject1=\"))\n",
    "        subject2=int(input(\"Subject2=\"))\n",
    "        subject3=int(input(\"Subject3=\"))\n",
    "        subject4=int(input(\"Subject4=\"))\n",
    "        subject5=int(input(\"Subject5=\"))\n",
    "        total=subject1+subject2+subject3+subject4+subject5\n",
    "        percentage = (subject1+subject2+subject3+subject4+subject5)/5\n",
    "        print(\"Total :\",total)\n",
    "        print(\"Percentage :\",percentage)"
   ]
  },
  {
   "cell_type": "code",
   "execution_count": 18,
   "id": "3fea4a10",
   "metadata": {},
   "outputs": [
    {
     "name": "stdout",
     "output_type": "stream",
     "text": [
      "Subject1=98\n",
      "Subject2=87\n",
      "Subject3=95\n",
      "Subject4=95\n",
      "Subject5=93\n",
      "Total : 468\n",
      "Percentage : 93.6\n"
     ]
    }
   ],
   "source": [
    "FindPercent.percentage()"
   ]
  },
  {
   "cell_type": "code",
   "execution_count": 19,
   "id": "ca239fdd",
   "metadata": {},
   "outputs": [],
   "source": [
    "#print area and perimeter of triangle using class and functions \n",
    "class triangle():\n",
    "    def triangle():\n",
    "        height=int(input(\"Height:\"))\n",
    "        breadth=int(input(\"Breadth:\"))\n",
    "        areaFormula= (height*breadth)/2\n",
    "        print(\"Area formula: (Height*Breadth)/2\")\n",
    "        print(\"Area of Triangle: \",areaFormula)\n",
    "        height1=int(input(\"Height1:\"))\n",
    "        height2=int(input(\"Height2:\"))    \n",
    "        breadth2=int(input(\"Breadth:\"))\n",
    "        formula=height1+height2+breadth2\n",
    "        print(\"Perimeter formula: Height1+Height2+Breadth\")\n",
    "        print(\"Perimeter of Triangle:\",formula)"
   ]
  },
  {
   "cell_type": "code",
   "execution_count": 20,
   "id": "a17dcb28",
   "metadata": {},
   "outputs": [
    {
     "name": "stdout",
     "output_type": "stream",
     "text": [
      "Height:32\n",
      "Breadth:34\n",
      "Area formula: (Height*Breadth)/2\n",
      "Area of Triangle:  544.0\n",
      "Height1:2\n",
      "Height2:4\n",
      "Breadth:4\n",
      "Perimeter formula: Height1+Height2+Breadth\n",
      "Perimeter of Triangle: 10\n"
     ]
    }
   ],
   "source": [
    "triangle.triangle()"
   ]
  },
  {
   "cell_type": "code",
   "execution_count": null,
   "id": "dd35abfc",
   "metadata": {},
   "outputs": [],
   "source": []
  }
 ],
 "metadata": {
  "kernelspec": {
   "display_name": "Python 3 (ipykernel)",
   "language": "python",
   "name": "python3"
  },
  "language_info": {
   "codemirror_mode": {
    "name": "ipython",
    "version": 3
   },
   "file_extension": ".py",
   "mimetype": "text/x-python",
   "name": "python",
   "nbconvert_exporter": "python",
   "pygments_lexer": "ipython3",
   "version": "3.11.5"
  }
 },
 "nbformat": 4,
 "nbformat_minor": 5
}
