{
 "cells": [
  {
   "cell_type": "code",
   "execution_count": 3,
   "id": "f14b87da",
   "metadata": {},
   "outputs": [
    {
     "name": "stdout",
     "output_type": "stream",
     "text": [
      "Enter the number=10\n",
      "value: 10\n",
      "Correct\n"
     ]
    }
   ],
   "source": [
    "# print 'CORRECT' if i == 10\n",
    "i=int(input(\"Enter the number=\"))\n",
    "if(i==10):\n",
    "    print(\"value:\",i )\n",
    "    print(\"Correct\")\n",
    "else:\n",
    "    print(\"InCorrect\")"
   ]
  },
  {
   "cell_type": "code",
   "execution_count": 10,
   "id": "3f928d75",
   "metadata": {},
   "outputs": [
    {
     "name": "stdout",
     "output_type": "stream",
     "text": [
      "Enter the password:HOPE@123\n",
      "Your password is correct \n"
     ]
    }
   ],
   "source": [
    "# Check the password, using if and else \n",
    "password =input(\"Enter the password:\")\n",
    "if(password == \"HOPE@123\"):\n",
    "    print(\"Your password is correct \")\n",
    "else:\n",
    "    print(\"Your password is Incorrect\")\n"
   ]
  },
  {
   "cell_type": "code",
   "execution_count": 19,
   "id": "c986347b",
   "metadata": {},
   "outputs": [
    {
     "name": "stdout",
     "output_type": "stream",
     "text": [
      "age:20\n",
      "Adult\n"
     ]
    }
   ],
   "source": [
    " # Catagory the people by their age like children, adult, citizen, senior citizen...\n",
    "age = int(input(\"age:\"))\n",
    "if(age<18):\n",
    "    print(\"Children\")\n",
    "elif(age<35):\n",
    "    print(\"Adult\")\n",
    "elif(age<59):\n",
    "    print(\"Citizen\")\n",
    "elif(age>59):\n",
    "    print(\"Senior Citizen\")"
   ]
  },
  {
   "cell_type": "code",
   "execution_count": 15,
   "id": "af3a06f4",
   "metadata": {},
   "outputs": [
    {
     "name": "stdout",
     "output_type": "stream",
     "text": [
      "Enter any number=1\n",
      "No is positive\n"
     ]
    }
   ],
   "source": [
    " # Find whether given number is positive or negative\n",
    "i=int(input(\"Enter any number=\"))\n",
    "if(i<0):\n",
    "    print(\"No is Negative\")\n",
    "else:\n",
    "    print(\"No is positive\")"
   ]
  },
  {
   "cell_type": "code",
   "execution_count": 18,
   "id": "44789e56",
   "metadata": {},
   "outputs": [
    {
     "name": "stdout",
     "output_type": "stream",
     "text": [
      "Enter a number to check:22\n",
      "No is not divisible by 5\n"
     ]
    }
   ],
   "source": [
    "# Check whether the given number is divisible by 5\n",
    "i=int(input(\"Enter a number to check:\"))\n",
    "if(i%5==0):\n",
    "    print(\"No is  divisible by 5\")\n",
    "else:\n",
    "    print(\"No is not divisible by 5\")"
   ]
  },
  {
   "cell_type": "code",
   "execution_count": null,
   "id": "ccde0498",
   "metadata": {},
   "outputs": [],
   "source": []
  },
  {
   "cell_type": "code",
   "execution_count": null,
   "id": "1084cd79",
   "metadata": {},
   "outputs": [],
   "source": []
  }
 ],
 "metadata": {
  "kernelspec": {
   "display_name": "Python 3 (ipykernel)",
   "language": "python",
   "name": "python3"
  },
  "language_info": {
   "codemirror_mode": {
    "name": "ipython",
    "version": 3
   },
   "file_extension": ".py",
   "mimetype": "text/x-python",
   "name": "python",
   "nbconvert_exporter": "python",
   "pygments_lexer": "ipython3",
   "version": "3.11.5"
  }
 },
 "nbformat": 4,
 "nbformat_minor": 5
}
